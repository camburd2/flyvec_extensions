{
 "cells": [
  {
   "cell_type": "code",
   "id": "initial_id",
   "metadata": {
    "collapsed": true,
    "ExecuteTime": {
     "end_time": "2024-12-02T21:58:49.315377Z",
     "start_time": "2024-12-02T21:58:48.704803Z"
    }
   },
   "source": [
    "import json\n",
    "import re\n",
    "from collections import Counter\n",
    "import numpy as np\n",
    "import random\n",
    "import torch\n",
    "from tqdm import tqdm\n",
    "import nltk\n",
    "from nltk.corpus import stopwords\n",
    "#disable ssl\n",
    "import ssl\n",
    "ssl._create_default_https_context = ssl._create_unverified_context\n",
    "nltk.download('stopwords')\n",
    "\n",
    "from flyvec_model import FlyvecModel\n",
    "import preprocess_books as prep\n",
    "import utils"
   ],
   "outputs": [
    {
     "name": "stderr",
     "output_type": "stream",
     "text": [
      "[nltk_data] Downloading package stopwords to\n",
      "[nltk_data]     /Users/naturalhg/nltk_data...\n",
      "[nltk_data]   Package stopwords is already up-to-date!\n"
     ]
    }
   ],
   "execution_count": 1
  },
  {
   "metadata": {
    "ExecuteTime": {
     "end_time": "2024-12-02T21:58:51.068227Z",
     "start_time": "2024-12-02T21:58:50.002010Z"
    }
   },
   "cell_type": "code",
   "source": [
    "# Load data and combine books into a string\n",
    "combined_books_text = prep.load_book_data('data/train.json')\n",
    "\n",
    "# Clean/filter text\n",
    "words_list, word_counts, vocab = prep.preprocess_text(combined_books_text)\n",
    "\n",
    "# Create training data: np array shape [N, window_size]\n",
    "train_data = prep.prepare_training_data(words_list, window_size=10)\n",
    "\n",
    "print(f'train data shape: {train_data.shape}')\n",
    "print(f'train sample: {random.choice(train_data)}')"
   ],
   "id": "e9c008a502515367",
   "outputs": [
    {
     "name": "stdout",
     "output_type": "stream",
     "text": [
      "train data shape: (232446, 10)\n",
      "train sample: ['trade' 'father' 'business' 'monsieur' 'ratignolle' 'stood' 'well'\n",
      " 'community' 'bore' '<unk>']\n"
     ]
    }
   ],
   "execution_count": 2
  },
  {
   "metadata": {
    "ExecuteTime": {
     "end_time": "2024-11-23T06:44:35.694109Z",
     "start_time": "2024-11-23T06:41:14.283605Z"
    }
   },
   "cell_type": "code",
   "source": [
    "# Create model\n",
    "model = FlyvecModel(\n",
    "    K_size=350,            # Number of neurons\n",
    "    vocab_size=len(vocab),  # Size of vocab\n",
    "    k=1,                    # Update top-k neurons\n",
    "    lr=.2,                  # Learning rate\n",
    "    norm_rate=1,            # Normalization rate\n",
    "    create_target_vector=True\n",
    ")\n",
    "\n",
    "# Create encoder\n",
    "enc = utils.Encoder(vocab)\n",
    "\n",
    "# Train model\n",
    "num_epochs = 10\n",
    "\n",
    "for i in range(num_epochs):\n",
    "    for num, sample in enumerate(tqdm(train_data, desc=f'Epoch {i+1}/{num_epochs}', ncols=100, leave=True)):\n",
    "        enc_sample = enc.one_hot(sample, create_target_vector=True)\n",
    "        model.update(enc_sample)\n",
    "\n",
    "# Save model\n",
    "utils.save_model(model, f'trained_models/original_model_epoch{num_epochs}_books.pt')"
   ],
   "id": "f86f615a1cd81670",
   "execution_count": 11,
   "outputs": []
  },
  {
   "metadata": {
    "ExecuteTime": {
     "end_time": "2024-12-02T21:58:52.746866Z",
     "start_time": "2024-12-02T21:58:52.379094Z"
    }
   },
   "cell_type": "code",
   "source": [
    "# Find words with embeddings most similar to the target word embedding\n",
    "target_word = 'ship'\n",
    "hash_length = 40\n",
    "top_N_closest = 20\n",
    "import utils\n",
    "\n",
    "model = utils.load_model('trained_models/original_model_epoch10_books.pt')\n",
    "\n",
    "utils.calc_print_sim_words(\n",
    "    vocab=vocab,\n",
    "    word_counts=word_counts,\n",
    "    model=model,\n",
    "    word=target_word,\n",
    "    hash_len=hash_length,\n",
    "    top_N=top_N_closest,\n",
    "    create_target_vector=True\n",
    ")"
   ],
   "id": "598b030e4c212a7b",
   "outputs": [
    {
     "name": "stderr",
     "output_type": "stream",
     "text": [
      "/Users/naturalhg/PycharmProjects/flyvec_extensions/utils.py:103: FutureWarning: You are using `torch.load` with `weights_only=False` (the current default value), which uses the default pickle module implicitly. It is possible to construct malicious pickle data which will execute arbitrary code during unpickling (See https://github.com/pytorch/pytorch/blob/main/SECURITY.md#untrusted-models for more details). In a future release, the default value for `weights_only` will be flipped to `True`. This limits the functions that could be executed during unpickling. Arbitrary objects will no longer be allowed to be loaded via this mode unless they are explicitly allowlisted by the user via `torch.serialization.add_safe_globals`. We recommend you start setting `weights_only=True` for any use case where you don't have full control of the loaded file. Please open an issue on GitHub for any issues related to this experimental feature.\n",
      "  state = torch.load(filepath, map_location=device)\n"
     ]
    },
    {
     "name": "stdout",
     "output_type": "stream",
     "text": [
      "Word            Similarity Frequency \n",
      "-----------------------------------\n",
      "ship                1.000       1203\n",
      "springing           0.880         61\n",
      "wreck               0.869        101\n",
      "spots               0.869         75\n",
      "assist              0.863        139\n",
      "consideration       0.863        258\n",
      "nations             0.863        111\n",
      "cause               0.863        661\n",
      "cattle              0.863         96\n",
      "intense             0.863        152\n",
      "mantle              0.863         61\n",
      "flies               0.863         92\n",
      "cartridges          0.863         52\n",
      "deaf                0.857         65\n",
      "secure              0.857        213\n",
      "journal             0.857        145\n",
      "purely              0.857         76\n",
      "trembled            0.857        182\n",
      "prevailed           0.857         77\n",
      "submit              0.857         85\n"
     ]
    }
   ],
   "execution_count": 3
  },
  {
   "metadata": {
    "ExecuteTime": {
     "end_time": "2024-12-02T21:59:17.320167Z",
     "start_time": "2024-12-02T21:59:16.949926Z"
    }
   },
   "cell_type": "code",
   "source": [
    "# Find words with embeddings most similar to the target word embedding\n",
    "target_word = 'ship'\n",
    "sentence = \"The ship on the sea was big and white.\"\n",
    "hash_length = 40\n",
    "top_N_closest = 20\n",
    "import utils\n",
    "\n",
    "model = utils.load_model('trained_models/original_model_epoch10_books.pt')\n",
    "\n",
    "utils.calc_print_sim_words_in_context(\n",
    "    vocab=vocab,\n",
    "    word_counts=word_counts,\n",
    "    model=model,\n",
    "    sentence=sentence,\n",
    "    target=target_word,\n",
    "    hash_len=hash_length,\n",
    "    top_N=top_N_closest,\n",
    "    create_target_vector=True\n",
    ")"
   ],
   "id": "7f36328716c07735",
   "outputs": [
    {
     "name": "stdout",
     "output_type": "stream",
     "text": [
      "Word            Similarity Frequency \n",
      "-----------------------------------\n",
      "<unk>               0.937     344198\n",
      "come                0.834       6320\n",
      "think               0.829       4901\n",
      "must                0.823       6495\n",
      "could               0.823      11386\n",
      "like                0.823       8321\n",
      "hear                0.823       1638\n",
      "night               0.823       3895\n",
      "room                0.823       4136\n",
      "woman               0.823       2461\n",
      "nothing             0.817       4926\n",
      "said                0.817      21631\n",
      "time                0.817       8675\n",
      "came                0.817       5150\n",
      "still               0.817       4400\n",
      "get                 0.817       3189\n",
      "mrs                 0.817       3167\n",
      "arabella            0.817        302\n",
      "never               0.811       6119\n",
      "say                 0.811       6111\n"
     ]
    }
   ],
   "execution_count": 5
  }
 ],
 "metadata": {
  "kernelspec": {
   "display_name": "Python 3",
   "language": "python",
   "name": "python3"
  },
  "language_info": {
   "codemirror_mode": {
    "name": "ipython",
    "version": 2
   },
   "file_extension": ".py",
   "mimetype": "text/x-python",
   "name": "python",
   "nbconvert_exporter": "python",
   "pygments_lexer": "ipython2",
   "version": "2.7.6"
  }
 },
 "nbformat": 4,
 "nbformat_minor": 5
}
