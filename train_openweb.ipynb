{
 "cells": [
  {
   "cell_type": "code",
   "execution_count": 1,
   "metadata": {},
   "outputs": [
    {
     "name": "stderr",
     "output_type": "stream",
     "text": [
      "c:\\Users\\camer\\AppData\\Local\\Programs\\Python\\Python310\\lib\\site-packages\\tqdm\\auto.py:21: TqdmWarning: IProgress not found. Please update jupyter and ipywidgets. See https://ipywidgets.readthedocs.io/en/stable/user_install.html\n",
      "  from .autonotebook import tqdm as notebook_tqdm\n"
     ]
    }
   ],
   "source": [
    "from datasets import load_dataset\n",
    "from tqdm import tqdm\n",
    "\n",
    "dataset = load_dataset(\"openwebtext\", trust_remote_code=True) # 45 mins first time, after that 1.5 mins"
   ]
  },
  {
   "cell_type": "code",
   "execution_count": null,
   "metadata": {},
   "outputs": [],
   "source": [
    "import json\n",
    "\n",
    "# Load vocab\n",
    "flyvec_embeddings_path = 'simple-flyvec-embeddings.json'\n",
    "with open(flyvec_embeddings_path, 'r') as file:\n",
    "    embeddings = json.load(file)\n",
    "\n",
    "\n",
    "vocab = {word: idx for idx, word in enumerate(embeddings.keys())}"
   ]
  },
  {
   "cell_type": "code",
   "execution_count": null,
   "metadata": {},
   "outputs": [
    {
     "name": "stderr",
     "output_type": "stream",
     "text": [
      "Processing Passages:  18%|█▊        | 1437786/8013769 [9:55:20<45:22:54, 40.25it/s] \n"
     ]
    },
    {
     "ename": "KeyboardInterrupt",
     "evalue": "",
     "output_type": "error",
     "traceback": [
      "\u001b[1;31m---------------------------------------------------------------------------\u001b[0m",
      "\u001b[1;31mKeyboardInterrupt\u001b[0m                         Traceback (most recent call last)",
      "Cell \u001b[1;32mIn[11], line 39\u001b[0m\n\u001b[0;32m     37\u001b[0m tokenized_window \u001b[38;5;241m=\u001b[39m encoder\u001b[38;5;241m.\u001b[39mtokenize(window\u001b[38;5;241m.\u001b[39mtolist())\n\u001b[0;32m     38\u001b[0m one_hot \u001b[38;5;241m=\u001b[39m encoder\u001b[38;5;241m.\u001b[39mone_hot(tokenized_window)\n\u001b[1;32m---> 39\u001b[0m \u001b[43mmodel\u001b[49m\u001b[38;5;241;43m.\u001b[39;49m\u001b[43mupdate\u001b[49m\u001b[43m(\u001b[49m\u001b[43mone_hot\u001b[49m\u001b[43m)\u001b[49m       \n\u001b[0;32m     40\u001b[0m windows_count \u001b[38;5;241m+\u001b[39m\u001b[38;5;241m=\u001b[39m \u001b[38;5;241m1\u001b[39m  \n\u001b[0;32m     41\u001b[0m id_counter\u001b[38;5;241m.\u001b[39mupdate(tokenized_window)\n",
      "File \u001b[1;32mc:\\Users\\camer\\Downloads\\only_context_flyvec-20241119T182725Z-001\\only_context_flyvec\\clean\\flyvec_extensions\\context_model.py:39\u001b[0m, in \u001b[0;36mContextModel.update\u001b[1;34m(self, x)\u001b[0m\n\u001b[0;32m     37\u001b[0m \u001b[38;5;28;01mif\u001b[39;00m \u001b[38;5;28mself\u001b[39m\u001b[38;5;241m.\u001b[39mcount \u001b[38;5;241m>\u001b[39m \u001b[38;5;28mself\u001b[39m\u001b[38;5;241m.\u001b[39mnorm_rate:\n\u001b[0;32m     38\u001b[0m     \u001b[38;5;28mself\u001b[39m\u001b[38;5;241m.\u001b[39mcount \u001b[38;5;241m=\u001b[39m \u001b[38;5;241m0\u001b[39m\n\u001b[1;32m---> 39\u001b[0m     \u001b[38;5;28mself\u001b[39m\u001b[38;5;241m.\u001b[39mW[\u001b[38;5;28mself\u001b[39m\u001b[38;5;241m.\u001b[39mnorm_mask] \u001b[38;5;241m=\u001b[39m \u001b[43mnn\u001b[49m\u001b[38;5;241;43m.\u001b[39;49m\u001b[43mfunctional\u001b[49m\u001b[38;5;241;43m.\u001b[39;49m\u001b[43mnormalize\u001b[49m\u001b[43m(\u001b[49m\u001b[38;5;28;43mself\u001b[39;49m\u001b[38;5;241;43m.\u001b[39;49m\u001b[43mW\u001b[49m\u001b[43m[\u001b[49m\u001b[38;5;28;43mself\u001b[39;49m\u001b[38;5;241;43m.\u001b[39;49m\u001b[43mnorm_mask\u001b[49m\u001b[43m]\u001b[49m\u001b[43m,\u001b[49m\u001b[43m \u001b[49m\u001b[43mdim\u001b[49m\u001b[38;5;241;43m=\u001b[39;49m\u001b[38;5;241;43m1\u001b[39;49m\u001b[43m)\u001b[49m\n\u001b[0;32m     40\u001b[0m     \u001b[38;5;28mself\u001b[39m\u001b[38;5;241m.\u001b[39mnorm_mask\u001b[38;5;241m.\u001b[39mzero_()\n",
      "File \u001b[1;32mc:\\Users\\camer\\AppData\\Local\\Programs\\Python\\Python310\\lib\\site-packages\\torch\\nn\\functional.py:4753\u001b[0m, in \u001b[0;36mnormalize\u001b[1;34m(input, p, dim, eps, out)\u001b[0m\n\u001b[0;32m   4751\u001b[0m     \u001b[38;5;28;01mreturn\u001b[39;00m handle_torch_function(normalize, (\u001b[38;5;28minput\u001b[39m, out), \u001b[38;5;28minput\u001b[39m, p\u001b[38;5;241m=\u001b[39mp, dim\u001b[38;5;241m=\u001b[39mdim, eps\u001b[38;5;241m=\u001b[39meps, out\u001b[38;5;241m=\u001b[39mout)\n\u001b[0;32m   4752\u001b[0m \u001b[38;5;28;01mif\u001b[39;00m out \u001b[38;5;129;01mis\u001b[39;00m \u001b[38;5;28;01mNone\u001b[39;00m:\n\u001b[1;32m-> 4753\u001b[0m     denom \u001b[38;5;241m=\u001b[39m \u001b[38;5;28;43minput\u001b[39;49m\u001b[38;5;241;43m.\u001b[39;49m\u001b[43mnorm\u001b[49m\u001b[43m(\u001b[49m\u001b[43mp\u001b[49m\u001b[43m,\u001b[49m\u001b[43m \u001b[49m\u001b[43mdim\u001b[49m\u001b[43m,\u001b[49m\u001b[43m \u001b[49m\u001b[43mkeepdim\u001b[49m\u001b[38;5;241;43m=\u001b[39;49m\u001b[38;5;28;43;01mTrue\u001b[39;49;00m\u001b[43m)\u001b[49m\u001b[38;5;241;43m.\u001b[39;49m\u001b[43mclamp_min\u001b[49m\u001b[43m(\u001b[49m\u001b[43meps\u001b[49m\u001b[43m)\u001b[49m\u001b[38;5;241;43m.\u001b[39;49m\u001b[43mexpand_as\u001b[49m\u001b[43m(\u001b[49m\u001b[38;5;28;43minput\u001b[39;49m\u001b[43m)\u001b[49m\n\u001b[0;32m   4754\u001b[0m     \u001b[38;5;28;01mreturn\u001b[39;00m \u001b[38;5;28minput\u001b[39m \u001b[38;5;241m/\u001b[39m denom\n\u001b[0;32m   4755\u001b[0m \u001b[38;5;28;01melse\u001b[39;00m:\n",
      "\u001b[1;31mKeyboardInterrupt\u001b[0m: "
     ]
    }
   ],
   "source": [
    "from encoder import Encoder\n",
    "from context_model import ContextModel\n",
    "from collections import Counter\n",
    "import numpy as np\n",
    "import utils\n",
    "\n",
    "encoder = Encoder(vocab=vocab)\n",
    "\n",
    "\n",
    "# Create model\n",
    "model = ContextModel(\n",
    "    K_size= 400,            # Number of neurons\n",
    "    vocab_size=len(vocab),  # Size of vocab\n",
    "    k=5,                    # Update top-k neurons\n",
    "    lr=.1,                  # Learning rate\n",
    "    norm_rate=5             # Normalization rate\n",
    ")\n",
    "\n",
    "\n",
    "window_size = 10\n",
    "\n",
    "id_counter = Counter()\n",
    "windows_count = 0\n",
    "passage_count = 0\n",
    "\n",
    "for passage in tqdm(dataset['train'], desc=\"Processing Passages\"):\n",
    "    passage_count += 1\n",
    "\n",
    "    text = passage['text']\n",
    "    preprocessed_text = encoder.preprocess(text, remove_stopwords=True)\n",
    "\n",
    "    words_arr = np.array(preprocessed_text)\n",
    "    words_arr = words_arr[:len(words_arr) - len(words_arr) % window_size]\n",
    "    train_data = words_arr.reshape(-1, window_size)    \n",
    "\n",
    "    for window in train_data:\n",
    "        tokenized_window = encoder.tokenize(window.tolist())\n",
    "        one_hot = encoder.one_hot(tokenized_window)\n",
    "        model.update(one_hot)       \n",
    "        windows_count += 1  \n",
    "        id_counter.update(tokenized_window)\n",
    "        \n",
    "    # Save the model every 80,000 (1% of dataset)\n",
    "    if passage_count % 80000 == 0:\n",
    "        pct = passage_count // 80000\n",
    "        utils.save_model(model, f\"trained_models/context_openwebtext_checkpoints/model_checkpoint_{pct}pct.pt\")   "
   ]
  },
  {
   "cell_type": "code",
   "execution_count": null,
   "metadata": {},
   "outputs": [],
   "source": [
    "word_counter = {word: id_counter.get(id, 0) for word, id in vocab.items()}\n",
    "word_counter = dict(sorted(word_counter.items(), key=lambda x: x[1], reverse=True))\n",
    "word_counter"
   ]
  },
  {
   "cell_type": "code",
   "execution_count": null,
   "metadata": {},
   "outputs": [
    {
     "name": "stdout",
     "output_type": "stream",
     "text": [
      "Word            Similarity Frequency \n",
      "-----------------------------------\n",
      "concert             1.000      24579\n",
      "missed              0.770      55568\n",
      "pop                 0.770      62099\n",
      "diet                0.770      38875\n",
      "mood                0.770      24341\n",
      "lyrics              0.770      17302\n",
      "swift               0.770      22656\n",
      "coat                0.765      14766\n",
      "remaining           0.765      62704\n",
      "noticeable          0.765       9035\n",
      "essay               0.760      19074\n",
      "instrumental        0.760      10018\n",
      "impoverished        0.760       5335\n",
      "types               0.760      93433\n",
      "father              0.760     168250\n",
      "located             0.760      70000\n",
      "songs               0.760      57015\n",
      "injection           0.760      13946\n",
      "invest              0.760      29146\n",
      "memo                0.760      19636\n"
     ]
    }
   ],
   "source": [
    "# Find words with embeddings most similar to the target word embedding\n",
    "target_word = 'concert'\n",
    "hash_length = 70\n",
    "top_N_closest = 20\n",
    "\n",
    "#model = utils.load_model('trained_models/.pt')\n",
    "import utils\n",
    "\n",
    "utils.calc_print_sim_words(\n",
    "    vocab=vocab,\n",
    "    word_counts=word_counter,\n",
    "    model=model,\n",
    "    word=target_word,\n",
    "    hash_len=hash_length,\n",
    "    top_N=top_N_closest\n",
    ")"
   ]
  }
 ],
 "metadata": {
  "kernelspec": {
   "display_name": "Python 3",
   "language": "python",
   "name": "python3"
  },
  "language_info": {
   "codemirror_mode": {
    "name": "ipython",
    "version": 3
   },
   "file_extension": ".py",
   "mimetype": "text/x-python",
   "name": "python",
   "nbconvert_exporter": "python",
   "pygments_lexer": "ipython3",
   "version": "3.10.0"
  }
 },
 "nbformat": 4,
 "nbformat_minor": 2
}
